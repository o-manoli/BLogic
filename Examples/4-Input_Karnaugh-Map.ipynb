{
 "cells": [
  {
   "cell_type": "code",
   "execution_count": 1,
   "metadata": {},
   "outputs": [],
   "source": [
    "import sys\n",
    "\n",
    "sys.path.append('..')   # just in the context of this package\n",
    "\n",
    "# look into PYTHONPATH\n",
    "\n",
    "from BLogic import InputSpace, P, karnaugh_matrix\n",
    "import numpy"
   ]
  },
  {
   "cell_type": "code",
   "execution_count": 4,
   "metadata": {},
   "outputs": [
    {
     "name": "stdout",
     "output_type": "stream",
     "text": [
      "Karnaugh Matrix:\n",
      "\n",
      "[ 0  2 10  8]\n",
      "[ 1  3 11  9]\n",
      "[ 5  7 15 13]\n",
      "[ 4  6 14 12]\n",
      "\n",
      "a\tb\tc\td\n",
      "\n",
      "1\t1\t1\t1\n",
      "1\t1\t1\t0\n",
      "1\t1\t0\t1\n",
      "1\t1\t0\t0\n",
      "1\t0\t1\t1\n",
      "1\t0\t1\t0\n",
      "1\t0\t0\t1\n",
      "1\t0\t0\t0\n",
      "0\t1\t1\t1\n",
      "0\t1\t1\t0\n",
      "0\t1\t0\t1\n",
      "0\t1\t0\t0\n",
      "0\t0\t1\t1\n",
      "0\t0\t1\t0\n",
      "0\t0\t0\t1\n",
      "0\t0\t0\t0\n"
     ]
    }
   ],
   "source": [
    "S = InputSpace(4)\n",
    "\n",
    "a, b, c, d = S(3), S(2), S(1), S(0)\n",
    "\n",
    "M = karnaugh_matrix(4)\n",
    "\n",
    "Display = numpy.vectorize(lambda x: 1 if x else 0)\n",
    "\n",
    "Map = lambda a: print(*Display(a[M]), sep=\"\\n\", end=2*'\\n')\n",
    "\n",
    "print(\"Karnaugh Matrix:\\n\", *M, sep=\"\\n\", end=2*'\\n')\n",
    "\n",
    "print(\"a\", \"b\", \"c\", \"d\", sep=\"\\t\", end=2*'\\n')\n",
    "\n",
    "P(a, b, c, d)"
   ]
  },
  {
   "cell_type": "code",
   "execution_count": 3,
   "metadata": {},
   "outputs": [
    {
     "name": "stdout",
     "output_type": "stream",
     "text": [
      "[1 1 1 1]\n",
      "[0 0 0 0]\n",
      "[0 0 0 0]\n",
      "[1 1 1 1]\n",
      "\n",
      "[1 0 0 1]\n",
      "[1 0 0 1]\n",
      "[1 0 0 1]\n",
      "[1 0 0 1]\n",
      "\n",
      "[1 1 1 1]\n",
      "[1 1 1 1]\n",
      "[0 0 0 0]\n",
      "[0 0 0 0]\n",
      "\n",
      "[1 1 0 0]\n",
      "[1 1 0 0]\n",
      "[1 1 0 0]\n",
      "[1 1 0 0]\n",
      "\n"
     ]
    }
   ],
   "source": [
    "Map(a)\n",
    "Map(b)\n",
    "Map(c)\n",
    "Map(d)"
   ]
  }
 ],
 "metadata": {
  "kernelspec": {
   "display_name": "base",
   "language": "python",
   "name": "python3"
  },
  "language_info": {
   "codemirror_mode": {
    "name": "ipython",
    "version": 3
   },
   "file_extension": ".py",
   "mimetype": "text/x-python",
   "name": "python",
   "nbconvert_exporter": "python",
   "pygments_lexer": "ipython3",
   "version": "3.11.5"
  }
 },
 "nbformat": 4,
 "nbformat_minor": 2
}
