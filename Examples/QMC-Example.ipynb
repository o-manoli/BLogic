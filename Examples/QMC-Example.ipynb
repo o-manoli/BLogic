{
 "cells": [
  {
   "cell_type": "code",
   "execution_count": 1,
   "metadata": {},
   "outputs": [],
   "source": [
    "import sys\n",
    "\n",
    "sys.path.append('..')   # just in the context of this package\n",
    "\n",
    "# look into PYTHONPATH\n",
    "\n",
    "from BLogic.QMC import cycle, table, implicit_loops, traverse_loops, decode\n",
    "\n",
    "from IPython.core.display import Latex"
   ]
  },
  {
   "cell_type": "code",
   "execution_count": 2,
   "metadata": {},
   "outputs": [
    {
     "name": "stdout",
     "output_type": "stream",
     "text": [
      "D\tC\tB\tA\tY\n",
      "0\t0\t0\t0\t1\n",
      "0\t0\t0\t1\t0\n",
      "0\t0\t1\t0\t0\n",
      "0\t0\t1\t1\t1\n",
      "0\t1\t0\t0\t1\n",
      "0\t1\t0\t1\t0\n",
      "0\t1\t1\t0\t0\n",
      "0\t1\t1\t1\t1\n",
      "1\t0\t0\t0\t1\n",
      "1\t0\t0\t1\t0\n",
      "1\t0\t1\t0\t0\n",
      "1\t0\t1\t1\t1\n",
      "1\t1\t0\t0\t1\n",
      "1\t1\t0\t1\t1\n",
      "1\t1\t1\t0\t1\n",
      "1\t1\t1\t1\t1\n",
      "\n",
      "\n",
      "['DC', 'ba', 'BA']\n",
      "['dba', 'dBA', 'DCa', 'cBA', 'DCB', 'DCb', 'cba', 'Dba', 'DBA', 'DCA', 'Cba', 'CBA']\n",
      "['dcba', 'dcBA', 'dCba', 'dCBA', 'Dcba', 'DcBA', 'DCba', 'DCbA', 'DCBa', 'DCBA']\n",
      "\n",
      "\n",
      "['DC', 'ba', 'BA']\n"
     ]
    },
    {
     "data": {
      "text/latex": [
       "$x_{3} \\cdot x_{2} + \\bar x_{1} \\cdot \\bar x_{0} + x_{1} \\cdot x_{0}$"
      ],
      "text/plain": [
       "<IPython.core.display.Latex object>"
      ]
     },
     "metadata": {},
     "output_type": "display_data"
    }
   ],
   "source": [
    "X = cycle(4)\n",
    "\n",
    "def func(*x:bool) -> bool:\n",
    "\treturn (not x[0] and not x[1]) or (x[0] and x[1]) or (x[2] and x[3])\n",
    "\n",
    "Y = *map(func, *X[::-1]),\n",
    "\n",
    "table(*X, Y)\n",
    "\n",
    "E = implicit_loops(*X, Y=Y)\n",
    "\n",
    "print(*E, sep=\"\\n\")\n",
    "\n",
    "print(\"\\n\")\n",
    "\n",
    "print(R := traverse_loops(E))\n",
    "\n",
    "display(Latex(f\"${decode(*R)}$\"))\n"
   ]
  }
 ],
 "metadata": {
  "kernelspec": {
   "display_name": "base",
   "language": "python",
   "name": "python3"
  },
  "language_info": {
   "codemirror_mode": {
    "name": "ipython",
    "version": 3
   },
   "file_extension": ".py",
   "mimetype": "text/x-python",
   "name": "python",
   "nbconvert_exporter": "python",
   "pygments_lexer": "ipython3",
   "version": "3.11.5"
  }
 },
 "nbformat": 4,
 "nbformat_minor": 2
}
