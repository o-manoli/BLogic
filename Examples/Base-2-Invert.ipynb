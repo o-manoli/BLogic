{
 "cells": [
  {
   "cell_type": "code",
   "execution_count": 1,
   "metadata": {},
   "outputs": [],
   "source": [
    "\"\"\"\n",
    "   Inverting Fixed Size Binary Represented Numbers\n",
    "\"\"\"\n",
    "\n",
    "from numpy import binary_repr\n",
    "\n",
    "from typing import Callable, Iterable"
   ]
  },
  {
   "cell_type": "code",
   "execution_count": 2,
   "metadata": {},
   "outputs": [],
   "source": [
    "def to_binary(WIDTH:int) -> Callable[[int], str]:\n",
    "   def binary_encoder(x:int) -> str:\n",
    "      f\"\"\"\n",
    "         Returns a number represented in {WIDTH}-Bit as string.\n",
    "         Fill missing positions with zeros and truncate the overflow\n",
    "         `binary_repr` does have a width parameter\n",
    "            but will throw a waring when misused\n",
    "      \"\"\"\n",
    "      return f\"{binary_repr(x):0>{WIDTH}}\"[-WIDTH:]\n",
    "   return binary_encoder"
   ]
  },
  {
   "cell_type": "code",
   "execution_count": 3,
   "metadata": {},
   "outputs": [],
   "source": [
    "NumberSymbolsValues:dict[str, int] = {\n",
    "   s : i for i, s in enumerate(\n",
    "      '0123456789'                   # ''.join(chr(48+i) for i in range(10))\n",
    "      'ABCDEFGHIJKLMNOPQRSTUVWXYZ'   # ''.join(chr(65+i) for i in range(26))\n",
    "      'abcdefghijklmnopqrstuvwxyz'   # ''.join(chr(97+i) for i in range(26))\n",
    "      # `'Hey' ' ' 'There'` will be joined as `'Hey There'`\n",
    "      # What else is there to do\n",
    "   )\n",
    "}\n",
    "\n",
    "NumberSymbolsRepresentations:dict[int, str] = {   # inverse dictionary\n",
    "   value:key for key, value in NumberSymbolsValues.items()\n",
    "}\n",
    "\n",
    "def to_decimal(\n",
    "      BASE:int, NumberSymbols:dict[str, int] = NumberSymbolsValues\n",
    "   ) -> Callable[[str], int]:\n",
    "   def decimal_decoder(x:str, I:dict[str, int] = NumberSymbols) -> int:\n",
    "      f\"\"\"\n",
    "         Returns a number written in {BASE} as a decimal\n",
    "      \"\"\"\n",
    "      b:int = 1\n",
    "      n:int = 0\n",
    "      for d in x[::-1]:\n",
    "         n += b * I[d]\n",
    "         b *= BASE\n",
    "      return n\n",
    "   return decimal_decoder\n",
    "\n",
    "decode_binary = to_decimal(2)\n",
    "\n",
    "decimal:Callable[[str], None] = lambda x: print(f\"({x})_2 = {decode_binary(x)}\")\n"
   ]
  },
  {
   "cell_type": "code",
   "execution_count": 4,
   "metadata": {},
   "outputs": [],
   "source": [
    "def invert(n:str, I:dict[str, str] = {'0': '1', '1': '0'}) -> str:\n",
    "   return ''.join(I[d] for d in n)"
   ]
  },
  {
   "cell_type": "code",
   "execution_count": 5,
   "metadata": {},
   "outputs": [],
   "source": [
    "def table(*Columns:Iterable[str | int], sep:str = '\\t'):   # how bad could it be for long enough rows!\n",
    "   for row in zip(*Columns):\n",
    "      print(sep, *row, sep= sep)"
   ]
  },
  {
   "cell_type": "code",
   "execution_count": 6,
   "metadata": {},
   "outputs": [],
   "source": [
    "def inversion_table(WIDTH:int):\n",
    "   N = tuple(map(to_binary(WIDTH), range(2**WIDTH)))\n",
    "   Inverted = tuple(map(invert, N))\n",
    "   decoder = to_decimal(2)\n",
    "   table(map(decoder, N), N, map(decoder, Inverted), Inverted)"
   ]
  },
  {
   "cell_type": "code",
   "execution_count": 7,
   "metadata": {},
   "outputs": [
    {
     "name": "stdout",
     "output_type": "stream",
     "text": [
      "\t\t0\t0000\t15\t1111\n",
      "\t\t1\t0001\t14\t1110\n",
      "\t\t2\t0010\t13\t1101\n",
      "\t\t3\t0011\t12\t1100\n",
      "\t\t4\t0100\t11\t1011\n",
      "\t\t5\t0101\t10\t1010\n",
      "\t\t6\t0110\t9\t1001\n",
      "\t\t7\t0111\t8\t1000\n",
      "\t\t8\t1000\t7\t0111\n",
      "\t\t9\t1001\t6\t0110\n",
      "\t\t10\t1010\t5\t0101\n",
      "\t\t11\t1011\t4\t0100\n",
      "\t\t12\t1100\t3\t0011\n",
      "\t\t13\t1101\t2\t0010\n",
      "\t\t14\t1110\t1\t0001\n",
      "\t\t15\t1111\t0\t0000\n"
     ]
    }
   ],
   "source": [
    "inversion_table(4)"
   ]
  }
 ],
 "metadata": {
  "kernelspec": {
   "display_name": "base",
   "language": "python",
   "name": "python3"
  },
  "language_info": {
   "codemirror_mode": {
    "name": "ipython",
    "version": 3
   },
   "file_extension": ".py",
   "mimetype": "text/x-python",
   "name": "python",
   "nbconvert_exporter": "python",
   "pygments_lexer": "ipython3",
   "version": "3.11.5"
  }
 },
 "nbformat": 4,
 "nbformat_minor": 2
}
