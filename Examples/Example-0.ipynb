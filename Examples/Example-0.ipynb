{
 "cells": [
  {
   "cell_type": "code",
   "execution_count": 2,
   "metadata": {},
   "outputs": [],
   "source": [
    "import sys\n",
    "\n",
    "sys.path.append('..')   # just in the context of this package\n",
    "\n",
    "# look into PYTHONPATH\n",
    "\n",
    "from BLogic import InputSpace, P"
   ]
  },
  {
   "cell_type": "code",
   "execution_count": 3,
   "metadata": {},
   "outputs": [
    {
     "name": "stdout",
     "output_type": "stream",
     "text": [
      "And-Gate:\n",
      "\n",
      "1\t1\t1\n",
      "1\t0\t0\n",
      "0\t1\t0\n",
      "0\t0\t0\n"
     ]
    }
   ],
   "source": [
    "S = InputSpace(2)\n",
    "\n",
    "a, b = S(1), S(0)\n",
    "\n",
    "print(\"And-Gate:\\n\")\n",
    "\n",
    "P(a, b, a & b)"
   ]
  },
  {
   "cell_type": "code",
   "execution_count": 4,
   "metadata": {},
   "outputs": [
    {
     "name": "stdout",
     "output_type": "stream",
     "text": [
      "* Notation And-Gate:\n",
      "\n",
      "1\t1\t1\n",
      "1\t0\t0\n",
      "0\t1\t0\n",
      "0\t0\t0\n"
     ]
    }
   ],
   "source": [
    "print(\"* Notation And-Gate:\\n\")\n",
    "\n",
    "P(a, b, a * b)"
   ]
  },
  {
   "cell_type": "code",
   "execution_count": 5,
   "metadata": {},
   "outputs": [
    {
     "name": "stdout",
     "output_type": "stream",
     "text": [
      "Or-Gate:\n",
      "\n",
      "1\t1\t1\n",
      "1\t0\t1\n",
      "0\t1\t1\n",
      "0\t0\t0\n"
     ]
    }
   ],
   "source": [
    "print(\"Or-Gate:\\n\")\n",
    "\n",
    "P(a, b, a | b)"
   ]
  },
  {
   "cell_type": "code",
   "execution_count": 6,
   "metadata": {},
   "outputs": [
    {
     "name": "stdout",
     "output_type": "stream",
     "text": [
      "+ Notation And-Gate:\n",
      "\n",
      "1\t1\t1\n",
      "1\t0\t1\n",
      "0\t1\t1\n",
      "0\t0\t0\n"
     ]
    }
   ],
   "source": [
    "print(\"+ Notation And-Gate:\\n\")\n",
    "\n",
    "P(a, b, a + b)"
   ]
  },
  {
   "cell_type": "code",
   "execution_count": 7,
   "metadata": {},
   "outputs": [
    {
     "name": "stdout",
     "output_type": "stream",
     "text": [
      "Absorption:\n",
      "\n",
      "1\t1\t1\t1\n",
      "1\t0\t1\t0\n",
      "0\t1\t0\t1\n",
      "0\t0\t0\t0\n"
     ]
    }
   ],
   "source": [
    "print(\"Absorption:\\n\")\n",
    "\n",
    "P(a, b, a*(a + b), b + a*b)"
   ]
  }
 ],
 "metadata": {
  "kernelspec": {
   "display_name": "base",
   "language": "python",
   "name": "python3"
  },
  "language_info": {
   "codemirror_mode": {
    "name": "ipython",
    "version": 3
   },
   "file_extension": ".py",
   "mimetype": "text/x-python",
   "name": "python",
   "nbconvert_exporter": "python",
   "pygments_lexer": "ipython3",
   "version": "3.11.5"
  }
 },
 "nbformat": 4,
 "nbformat_minor": 2
}
