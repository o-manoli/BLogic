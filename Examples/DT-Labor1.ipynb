{
 "cells": [
  {
   "cell_type": "code",
   "execution_count": 1,
   "metadata": {},
   "outputs": [],
   "source": [
    "import sys\n",
    "sys.path.append(\"..\")"
   ]
  },
  {
   "cell_type": "code",
   "execution_count": 2,
   "metadata": {},
   "outputs": [],
   "source": [
    "from BLogic import (\n",
    "\tInputSpace, Sectors, karnaugh_matrix, Sep, table\n",
    ")\n",
    "\n",
    "from BLogic.vectorized import logicVectorsMatrix\n",
    "\n",
    "from IPython.core.display import Latex\n",
    "\n",
    "def newPage():\n",
    "\tdisplay(Latex(r'\\newpage'))"
   ]
  },
  {
   "cell_type": "code",
   "execution_count": 3,
   "metadata": {},
   "outputs": [
    {
     "data": {
      "text/latex": [
       "\\newpage"
      ],
      "text/plain": [
       "<IPython.core.display.Latex object>"
      ]
     },
     "metadata": {},
     "output_type": "display_data"
    }
   ],
   "source": [
    "Space = 4\n",
    "\n",
    "S = InputSpace(4)\n",
    "\n",
    "X3, X2, X1, X0 = S()\n",
    "\n",
    "M = karnaugh_matrix(Space)\n",
    "\n",
    "echo = Sectors(M)\n",
    "\n",
    "newPage()"
   ]
  },
  {
   "cell_type": "code",
   "execution_count": 4,
   "metadata": {},
   "outputs": [
    {
     "name": "stdout",
     "output_type": "stream",
     "text": [
      "| X3  | X2  | X1  | X0  |\n",
      "| :-: | :-: | :-: | :-: |\n",
      "|  0  |  0  |  0  |  0  |\n",
      "|  0  |  0  |  0  |  1  |\n",
      "|  0  |  0  |  1  |  0  |\n",
      "|  0  |  0  |  1  |  1  |\n",
      "|  0  |  1  |  0  |  0  |\n",
      "|  0  |  1  |  0  |  1  |\n",
      "|  0  |  1  |  1  |  0  |\n",
      "|  0  |  1  |  1  |  1  |\n",
      "|  1  |  0  |  0  |  0  |\n",
      "|  1  |  0  |  0  |  1  |\n",
      "|  1  |  0  |  1  |  0  |\n",
      "|  1  |  0  |  1  |  1  |\n",
      "|  1  |  1  |  0  |  0  |\n",
      "|  1  |  1  |  0  |  1  |\n",
      "|  1  |  1  |  1  |  0  |\n",
      "|  1  |  1  |  1  |  1  |\n",
      "\n",
      "- - - - - - - - - - - - - - - - - - - -\n",
      "\n",
      "Sector Echos:\n",
      "\n",
      "0 0 1 1   0 0 0 0   0 1 1 0   0 0 0 0\n",
      "0 0 1 1   0 0 0 0   0 1 1 0   1 1 1 1\n",
      "0 0 1 1   1 1 1 1   0 1 1 0   1 1 1 1\n",
      "0 0 1 1   1 1 1 1   0 1 1 0   0 0 0 0\n"
     ]
    },
    {
     "data": {
      "text/latex": [
       "\\newpage"
      ],
      "text/plain": [
       "<IPython.core.display.Latex object>"
      ]
     },
     "metadata": {},
     "output_type": "display_data"
    },
    {
     "name": "stdout",
     "output_type": "stream",
     "text": [
      "Map of X3:\n",
      "\n",
      "0 0 1 1\n",
      "0 0 1 1\n",
      "0 0 1 1\n",
      "0 0 1 1\n",
      "\n",
      "- - - - - - - - - - - -\n",
      "Map of X2:\n",
      "\n",
      "0 0 0 0\n",
      "0 0 0 0\n",
      "1 1 1 1\n",
      "1 1 1 1\n",
      "\n",
      "- - - - - - - - - - - -\n",
      "Map of X1:\n",
      "\n",
      "0 1 1 0\n",
      "0 1 1 0\n",
      "0 1 1 0\n",
      "0 1 1 0\n",
      "\n",
      "- - - - - - - - - - - -\n",
      "Map of X0:\n",
      "\n",
      "0 0 0 0\n",
      "1 1 1 1\n",
      "1 1 1 1\n",
      "0 0 0 0\n",
      "\n",
      "- - - - - - - - - - - -\n"
     ]
    },
    {
     "data": {
      "text/latex": [
       "\\newpage"
      ],
      "text/plain": [
       "<IPython.core.display.Latex object>"
      ]
     },
     "metadata": {},
     "output_type": "display_data"
    }
   ],
   "source": [
    "print(\n",
    "\ttable(\n",
    "\t\ttabled_Input := {f\"X{Space - i - 1}\": x for i, x in enumerate(S())}\n",
    "\t)\n",
    ")\n",
    "\n",
    "Sep(20, start='\\n', end=2*'\\n' + \"Sector Echos:\\n\\n\")\n",
    "\n",
    "echo(X3, X2, X1, X0)\n",
    "\n",
    "newPage()\n",
    "\n",
    "for label, v in tabled_Input.items():\n",
    "\tprint(f\"Map of {label}:\\n\")\n",
    "\techo(v)\n",
    "\tSep(start='\\n')\n",
    "\n",
    "newPage()"
   ]
  },
  {
   "cell_type": "code",
   "execution_count": 5,
   "metadata": {},
   "outputs": [
    {
     "data": {
      "text/latex": [
       "\\newpage"
      ],
      "text/plain": [
       "<IPython.core.display.Latex object>"
      ]
     },
     "metadata": {},
     "output_type": "display_data"
    },
    {
     "name": "stdout",
     "output_type": "stream",
     "text": [
      "Segments Output:\n",
      "\n",
      "|  a  |  b  |  c  |  d  |  e  |  f  |  g  |\n",
      "| :-: | :-: | :-: | :-: | :-: | :-: | :-: |\n",
      "|  1  |  1  |  1  |  1  |  1  |  1  |  0  |\n",
      "|  0  |  1  |  1  |  0  |  0  |  0  |  0  |\n",
      "|  1  |  1  |  0  |  1  |  1  |  0  |  1  |\n",
      "|  1  |  1  |  1  |  1  |  0  |  0  |  1  |\n",
      "|  0  |  1  |  1  |  0  |  0  |  1  |  1  |\n",
      "|  1  |  0  |  1  |  1  |  0  |  1  |  1  |\n",
      "|  1  |  0  |  1  |  1  |  1  |  1  |  1  |\n",
      "|  1  |  1  |  1  |  0  |  0  |  0  |  0  |\n",
      "|  1  |  1  |  1  |  1  |  1  |  1  |  1  |\n",
      "|  1  |  1  |  1  |  0  |  0  |  1  |  1  |\n",
      "|  1  |  1  |  1  |  0  |  1  |  1  |  1  |\n",
      "|  0  |  0  |  1  |  1  |  1  |  1  |  1  |\n",
      "|  1  |  0  |  0  |  1  |  1  |  1  |  0  |\n",
      "|  0  |  1  |  1  |  1  |  1  |  0  |  1  |\n",
      "|  1  |  0  |  0  |  1  |  1  |  1  |  1  |\n",
      "|  1  |  0  |  0  |  0  |  1  |  1  |  1  |\n"
     ]
    },
    {
     "data": {
      "text/latex": [
       "\\newpage"
      ],
      "text/plain": [
       "<IPython.core.display.Latex object>"
      ]
     },
     "metadata": {},
     "output_type": "display_data"
    },
    {
     "name": "stdout",
     "output_type": "stream",
     "text": [
      "Map of a:\n",
      "\n",
      "1 1 1 1\n",
      "0 1 0 1\n",
      "1 1 1 0\n",
      "0 1 1 1\n",
      "\n",
      "- - - - - - - - - - - -\n",
      "Map of b:\n",
      "\n",
      "1 1 1 1\n",
      "1 1 0 1\n",
      "0 1 0 1\n",
      "1 0 0 0\n",
      "\n",
      "- - - - - - - - - - - -\n",
      "Map of c:\n",
      "\n",
      "1 0 1 1\n",
      "1 1 1 1\n",
      "1 1 0 1\n",
      "1 1 0 0\n",
      "\n",
      "- - - - - - - - - - - -\n",
      "Map of d:\n",
      "\n",
      "1 1 0 1\n",
      "0 1 1 0\n",
      "1 0 0 1\n",
      "0 1 1 1\n",
      "\n",
      "- - - - - - - - - - - -\n",
      "Map of e:\n",
      "\n",
      "1 1 1 1\n",
      "0 0 1 0\n",
      "0 0 1 1\n",
      "0 1 1 1\n",
      "\n",
      "- - - - - - - - - - - -\n",
      "Map of f:\n",
      "\n",
      "1 0 1 1\n",
      "0 0 1 1\n",
      "1 0 1 0\n",
      "1 1 1 1\n",
      "\n",
      "- - - - - - - - - - - -\n",
      "Map of g:\n",
      "\n",
      "0 1 1 1\n",
      "0 1 1 1\n",
      "1 0 1 1\n",
      "1 1 1 0\n",
      "\n",
      "- - - - - - - - - - - -\n"
     ]
    }
   ],
   "source": [
    "newPage()\n",
    "\n",
    "Output = logicVectorsMatrix(7)(\n",
    "\n",
    "\t0b1111110,\n",
    "\t0b0110000,\n",
    "\t0b1101101,\n",
    "\t0b1111001,\n",
    "\n",
    "\t0b0110011,\n",
    "\t0b1011011,\n",
    "\t0b1011111,\n",
    "\t0b1110000,\n",
    "\n",
    "\t0b1111111,\n",
    "\t0b1110011,\n",
    "\t0b1110111,\n",
    "\t0b0011111,\n",
    "\n",
    "\t0b1001110,\n",
    "\t0b0111101,\n",
    "\t0b1001111,\n",
    "\t0b1000111\n",
    "\n",
    ")\n",
    "\n",
    "CHR = map(chr, range(ord('a'), ord('a')+8))\n",
    "\n",
    "print(\"Segments Output:\\n\")\n",
    "\n",
    "print(\n",
    "\ttable(\n",
    "\t\ttabled_Output := {c: v for c, v in zip(CHR ,Output.T)}\n",
    "\t)\n",
    ")\n",
    "\n",
    "newPage()\n",
    "\n",
    "for label, v in tabled_Output.items():\n",
    "\tprint(f\"Map of {label}:\\n\")\n",
    "\techo(v)\n",
    "\tSep(start='\\n')"
   ]
  }
 ],
 "metadata": {
  "kernelspec": {
   "display_name": "base",
   "language": "python",
   "name": "python3"
  },
  "language_info": {
   "codemirror_mode": {
    "name": "ipython",
    "version": 3
   },
   "file_extension": ".py",
   "mimetype": "text/x-python",
   "name": "python",
   "nbconvert_exporter": "python",
   "pygments_lexer": "ipython3",
   "version": "3.11.5"
  }
 },
 "nbformat": 4,
 "nbformat_minor": 2
}
